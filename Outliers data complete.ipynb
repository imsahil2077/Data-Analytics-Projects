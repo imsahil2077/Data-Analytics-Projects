{
 "cells": [
  {
   "cell_type": "code",
   "execution_count": 73,
   "id": "490b2dbf-4ba1-444d-8299-de17126364c8",
   "metadata": {},
   "outputs": [],
   "source": [
    "import seaborn as sns\n",
    "import pandas as pd\n",
    "import numpy as np\n",
    "import matplotlib.pyplot as plt"
   ]
  },
  {
   "cell_type": "code",
   "execution_count": 74,
   "id": "cd8f4680-60d3-4ad6-9475-7605bee7e66d",
   "metadata": {},
   "outputs": [],
   "source": [
    "df = pd.read_csv(r'C:\\Users\\SOFT\\weight_height.csv')"
   ]
  },
  {
   "cell_type": "code",
   "execution_count": 75,
   "id": "c20601d4-6cdc-49c9-ab0e-1d7f4317ea42",
   "metadata": {},
   "outputs": [
    {
     "data": {
      "text/html": [
       "<div>\n",
       "<style scoped>\n",
       "    .dataframe tbody tr th:only-of-type {\n",
       "        vertical-align: middle;\n",
       "    }\n",
       "\n",
       "    .dataframe tbody tr th {\n",
       "        vertical-align: top;\n",
       "    }\n",
       "\n",
       "    .dataframe thead th {\n",
       "        text-align: right;\n",
       "    }\n",
       "</style>\n",
       "<table border=\"1\" class=\"dataframe\">\n",
       "  <thead>\n",
       "    <tr style=\"text-align: right;\">\n",
       "      <th></th>\n",
       "      <th>Gender</th>\n",
       "      <th>Height</th>\n",
       "      <th>Weight</th>\n",
       "    </tr>\n",
       "  </thead>\n",
       "  <tbody>\n",
       "    <tr>\n",
       "      <th>0</th>\n",
       "      <td>Male</td>\n",
       "      <td>73.847017</td>\n",
       "      <td>241.893563</td>\n",
       "    </tr>\n",
       "    <tr>\n",
       "      <th>1</th>\n",
       "      <td>Male</td>\n",
       "      <td>68.781904</td>\n",
       "      <td>162.310473</td>\n",
       "    </tr>\n",
       "    <tr>\n",
       "      <th>2</th>\n",
       "      <td>Male</td>\n",
       "      <td>74.110105</td>\n",
       "      <td>212.740856</td>\n",
       "    </tr>\n",
       "    <tr>\n",
       "      <th>3</th>\n",
       "      <td>Male</td>\n",
       "      <td>71.730978</td>\n",
       "      <td>220.042470</td>\n",
       "    </tr>\n",
       "    <tr>\n",
       "      <th>4</th>\n",
       "      <td>Male</td>\n",
       "      <td>69.881796</td>\n",
       "      <td>206.349801</td>\n",
       "    </tr>\n",
       "  </tbody>\n",
       "</table>\n",
       "</div>"
      ],
      "text/plain": [
       "  Gender     Height      Weight\n",
       "0   Male  73.847017  241.893563\n",
       "1   Male  68.781904  162.310473\n",
       "2   Male  74.110105  212.740856\n",
       "3   Male  71.730978  220.042470\n",
       "4   Male  69.881796  206.349801"
      ]
     },
     "execution_count": 75,
     "metadata": {},
     "output_type": "execute_result"
    }
   ],
   "source": [
    "df.head()"
   ]
  },
  {
   "cell_type": "code",
   "execution_count": 76,
   "id": "77761ca3-cffb-4e01-8703-ebfc9e40b95f",
   "metadata": {},
   "outputs": [
    {
     "data": {
      "text/plain": [
       "(10000, 3)"
      ]
     },
     "execution_count": 76,
     "metadata": {},
     "output_type": "execute_result"
    }
   ],
   "source": [
    "df.shape"
   ]
  },
  {
   "cell_type": "code",
   "execution_count": 77,
   "id": "47b3f35d-3d6b-45bd-98c0-c547f163a343",
   "metadata": {},
   "outputs": [
    {
     "data": {
      "text/plain": [
       "<Axes: xlabel='Height'>"
      ]
     },
     "execution_count": 77,
     "metadata": {},
     "output_type": "execute_result"
    },
    {
     "data": {
      "image/png": "[encoded data removed]",
      "text/plain": [
       "<Figure size 640x480 with 1 Axes>"
      ]
     },
     "metadata": {},
     "output_type": "display_data"
    }
   ],
   "source": [
    "sns.boxplot(x='Height',data=df)"
   ]
  },
  {
   "cell_type": "code",
   "execution_count": 78,
   "id": "ff1c5bd2-ae2d-47c3-b78a-2da676ba9e3a",
   "metadata": {},
   "outputs": [],
   "source": [
    "## IQR (InTER quartile range)"
   ]
  },
  {
   "cell_type": "code",
   "execution_count": 79,
   "id": "6c720920-3ee2-4251-b06a-274da1aa131f",
   "metadata": {},
   "outputs": [],
   "source": [
    "Q1,Q3 = df[\"Height\"].quantile([0.25,0.75])"
   ]
  },
  {
   "cell_type": "code",
   "execution_count": 80,
   "id": "07b95ebd-ec1c-4146-b300-df9acaceeff5",
   "metadata": {},
   "outputs": [
    {
     "data": {
      "text/plain": [
       "63.505620481218955"
      ]
     },
     "execution_count": 80,
     "metadata": {},
     "output_type": "execute_result"
    }
   ],
   "source": [
    "Q1"
   ]
  },
  {
   "cell_type": "code",
   "execution_count": 81,
   "id": "de0df4d7-49cc-48c2-b232-524bd32e1903",
   "metadata": {},
   "outputs": [
    {
     "data": {
      "text/plain": [
       "69.1742617268347"
      ]
     },
     "execution_count": 81,
     "metadata": {},
     "output_type": "execute_result"
    }
   ],
   "source": [
    "Q3"
   ]
  },
  {
   "cell_type": "code",
   "execution_count": 82,
   "id": "41fb8d21-8091-409b-921d-048b390a3a05",
   "metadata": {},
   "outputs": [],
   "source": [
    "IQR = Q3-Q1"
   ]
  },
  {
   "cell_type": "code",
   "execution_count": 83,
   "id": "ea6ba069-ef65-4bc2-ae4e-9e52cb308436",
   "metadata": {},
   "outputs": [
    {
     "data": {
      "text/plain": [
       "5.668641245615746"
      ]
     },
     "execution_count": 83,
     "metadata": {},
     "output_type": "execute_result"
    }
   ],
   "source": [
    "IQR"
   ]
  },
  {
   "cell_type": "code",
   "execution_count": 84,
   "id": "a539b9a4-27d5-4ef6-9730-91f728103443",
   "metadata": {},
   "outputs": [],
   "source": [
    "LL = Q1 - 1.5*(IQR)"
   ]
  },
  {
   "cell_type": "code",
   "execution_count": 85,
   "id": "a1c0616c-627e-4e35-998c-0e502af97521",
   "metadata": {},
   "outputs": [
    {
     "data": {
      "text/plain": [
       "55.00265861279534"
      ]
     },
     "execution_count": 85,
     "metadata": {},
     "output_type": "execute_result"
    }
   ],
   "source": [
    "LL"
   ]
  },
  {
   "cell_type": "code",
   "execution_count": 86,
   "id": "3284e792-442f-4449-9661-a461673ccaad",
   "metadata": {},
   "outputs": [],
   "source": [
    "UL = Q3 +1.5*(IQR)"
   ]
  },
  {
   "cell_type": "code",
   "execution_count": 87,
   "id": "40480d79-8b42-48b9-ad88-00648e2833f0",
   "metadata": {},
   "outputs": [
    {
     "data": {
      "text/plain": [
       "77.67722359525831"
      ]
     },
     "execution_count": 87,
     "metadata": {},
     "output_type": "execute_result"
    }
   ],
   "source": [
    "UL"
   ]
  },
  {
   "cell_type": "code",
   "execution_count": 88,
   "id": "61f0eb81-317e-4c2f-a33c-9c19a7bc3f1b",
   "metadata": {},
   "outputs": [],
   "source": [
    "outliers = df[(df[\"Height\"]<LL) | (df[\"Height\"]>UL)]"
   ]
  },
  {
   "cell_type": "code",
   "execution_count": 89,
   "id": "f47722b0-1346-44b9-98dd-003e914581f3",
   "metadata": {},
   "outputs": [
    {
     "data": {
      "text/html": [
       "<div>\n",
       "<style scoped>\n",
       "    .dataframe tbody tr th:only-of-type {\n",
       "        vertical-align: middle;\n",
       "    }\n",
       "\n",
       "    .dataframe tbody tr th {\n",
       "        vertical-align: top;\n",
       "    }\n",
       "\n",
       "    .dataframe thead th {\n",
       "        text-align: right;\n",
       "    }\n",
       "</style>\n",
       "<table border=\"1\" class=\"dataframe\">\n",
       "  <thead>\n",
       "    <tr style=\"text-align: right;\">\n",
       "      <th></th>\n",
       "      <th>Gender</th>\n",
       "      <th>Height</th>\n",
       "      <th>Weight</th>\n",
       "    </tr>\n",
       "  </thead>\n",
       "  <tbody>\n",
       "    <tr>\n",
       "      <th>994</th>\n",
       "      <td>Male</td>\n",
       "      <td>78.095867</td>\n",
       "      <td>255.690835</td>\n",
       "    </tr>\n",
       "    <tr>\n",
       "      <th>1317</th>\n",
       "      <td>Male</td>\n",
       "      <td>78.462053</td>\n",
       "      <td>227.342565</td>\n",
       "    </tr>\n",
       "    <tr>\n",
       "      <th>2014</th>\n",
       "      <td>Male</td>\n",
       "      <td>78.998742</td>\n",
       "      <td>269.989699</td>\n",
       "    </tr>\n",
       "    <tr>\n",
       "      <th>3285</th>\n",
       "      <td>Male</td>\n",
       "      <td>78.528210</td>\n",
       "      <td>253.889004</td>\n",
       "    </tr>\n",
       "    <tr>\n",
       "      <th>3757</th>\n",
       "      <td>Male</td>\n",
       "      <td>78.621374</td>\n",
       "      <td>245.733783</td>\n",
       "    </tr>\n",
       "    <tr>\n",
       "      <th>6624</th>\n",
       "      <td>Female</td>\n",
       "      <td>54.616858</td>\n",
       "      <td>71.393749</td>\n",
       "    </tr>\n",
       "    <tr>\n",
       "      <th>7294</th>\n",
       "      <td>Female</td>\n",
       "      <td>54.873728</td>\n",
       "      <td>78.606670</td>\n",
       "    </tr>\n",
       "    <tr>\n",
       "      <th>9285</th>\n",
       "      <td>Female</td>\n",
       "      <td>54.263133</td>\n",
       "      <td>64.700127</td>\n",
       "    </tr>\n",
       "  </tbody>\n",
       "</table>\n",
       "</div>"
      ],
      "text/plain": [
       "      Gender     Height      Weight\n",
       "994     Male  78.095867  255.690835\n",
       "1317    Male  78.462053  227.342565\n",
       "2014    Male  78.998742  269.989699\n",
       "3285    Male  78.528210  253.889004\n",
       "3757    Male  78.621374  245.733783\n",
       "6624  Female  54.616858   71.393749\n",
       "7294  Female  54.873728   78.606670\n",
       "9285  Female  54.263133   64.700127"
      ]
     },
     "execution_count": 89,
     "metadata": {},
     "output_type": "execute_result"
    }
   ],
   "source": [
    "outliers"
   ]
  },
  {
   "cell_type": "code",
   "execution_count": 90,
   "id": "f15b323c-5be9-43ad-8c40-38c38d7e468c",
   "metadata": {},
   "outputs": [],
   "source": [
    "df[\"Height\"] = np.where(df[\"Height\"]<LL,LL,df[\"Height\"])\n",
    "df[\"Height\"] = np.where(df[\"Height\"]>UL,UL,df[\"Height\"])"
   ]
  },
  {
   "cell_type": "code",
   "execution_count": 91,
   "id": "4f4f4adc-f4c8-49e4-ba76-de73f42f291a",
   "metadata": {},
   "outputs": [
    {
     "data": {
      "text/plain": [
       "<Axes: xlabel='Height'>"
      ]
     },
     "execution_count": 91,
     "metadata": {},
     "output_type": "execute_result"
    },
    {
     "data": {
      "image/png": "[encoded data removed]",
      "text/plain": [
       "<Figure size 640x480 with 1 Axes>"
      ]
     },
     "metadata": {},
     "output_type": "display_data"
    }
   ],
   "source": [
    "sns.boxplot(x='Height',data=df)"
   ]
  },
  {
   "cell_type": "code",
   "execution_count": 92,
   "id": "6ffe63e3-39d9-475a-ac40-fa49c41b225f",
   "metadata": {},
   "outputs": [
    {
     "data": {
      "text/plain": [
       "<Axes: xlabel='Weight'>"
      ]
     },
     "execution_count": 92,
     "metadata": {},
     "output_type": "execute_result"
    },
    {
     "data": {
      "image/png": "[encoded data removed]",
      "text/plain": [
       "<Figure size 640x480 with 1 Axes>"
      ]
     },
     "metadata": {},
     "output_type": "display_data"
    }
   ],
   "source": [
    "sns.boxplot(x='Weight',data=df)"
   ]
  },
  {
   "cell_type": "code",
   "execution_count": 93,
   "id": "e7587251-0c5a-494e-bbd8-abfc8a2bff93",
   "metadata": {},
   "outputs": [],
   "source": [
    "q1,q3 = df['Weight'].quantile([0.25,0.75])"
   ]
  },
  {
   "cell_type": "code",
   "execution_count": 94,
   "id": "e14d2aa2-98c4-4d97-89b2-d620ba8a669c",
   "metadata": {},
   "outputs": [
    {
     "data": {
      "text/plain": [
       "135.8180513055015"
      ]
     },
     "execution_count": 94,
     "metadata": {},
     "output_type": "execute_result"
    }
   ],
   "source": [
    "q1"
   ]
  },
  {
   "cell_type": "code",
   "execution_count": 95,
   "id": "2ebf0837-4406-4e35-85df-344f0411b2cf",
   "metadata": {},
   "outputs": [
    {
     "data": {
      "text/plain": [
       "187.16952486868348"
      ]
     },
     "execution_count": 95,
     "metadata": {},
     "output_type": "execute_result"
    }
   ],
   "source": [
    "q3"
   ]
  },
  {
   "cell_type": "code",
   "execution_count": 96,
   "id": "74cd4e90-324f-42e5-992b-b9fb1fa08c85",
   "metadata": {},
   "outputs": [],
   "source": [
    "IQR = q3-q1"
   ]
  },
  {
   "cell_type": "code",
   "execution_count": 97,
   "id": "3982d544-3491-4152-889b-e6b8349a80a5",
   "metadata": {},
   "outputs": [
    {
     "data": {
      "text/plain": [
       "51.35147356318197"
      ]
     },
     "execution_count": 97,
     "metadata": {},
     "output_type": "execute_result"
    }
   ],
   "source": [
    "IQR"
   ]
  },
  {
   "cell_type": "code",
   "execution_count": 98,
   "id": "2cfb3d31-c0f0-43a4-bf57-24a2586e07d6",
   "metadata": {},
   "outputs": [],
   "source": [
    "UL = q3 + 1.5 * (IQR)"
   ]
  },
  {
   "cell_type": "code",
   "execution_count": 99,
   "id": "684d01df-6156-41c9-9ccd-30200e189f55",
   "metadata": {},
   "outputs": [
    {
     "data": {
      "text/plain": [
       "264.19673521345646"
      ]
     },
     "execution_count": 99,
     "metadata": {},
     "output_type": "execute_result"
    }
   ],
   "source": [
    "UL"
   ]
  },
  {
   "cell_type": "code",
   "execution_count": 100,
   "id": "46adbd0f-c0e3-4b26-a73a-9666d952fc88",
   "metadata": {},
   "outputs": [
    {
     "data": {
      "text/html": [
       "<div>\n",
       "<style scoped>\n",
       "    .dataframe tbody tr th:only-of-type {\n",
       "        vertical-align: middle;\n",
       "    }\n",
       "\n",
       "    .dataframe tbody tr th {\n",
       "        vertical-align: top;\n",
       "    }\n",
       "\n",
       "    .dataframe thead th {\n",
       "        text-align: right;\n",
       "    }\n",
       "</style>\n",
       "<table border=\"1\" class=\"dataframe\">\n",
       "  <thead>\n",
       "    <tr style=\"text-align: right;\">\n",
       "      <th></th>\n",
       "      <th>Gender</th>\n",
       "      <th>Height</th>\n",
       "      <th>Weight</th>\n",
       "    </tr>\n",
       "  </thead>\n",
       "  <tbody>\n",
       "    <tr>\n",
       "      <th>2014</th>\n",
       "      <td>Male</td>\n",
       "      <td>77.677224</td>\n",
       "      <td>269.989699</td>\n",
       "    </tr>\n",
       "  </tbody>\n",
       "</table>\n",
       "</div>"
      ],
      "text/plain": [
       "     Gender     Height      Weight\n",
       "2014   Male  77.677224  269.989699"
      ]
     },
     "execution_count": 100,
     "metadata": {},
     "output_type": "execute_result"
    }
   ],
   "source": [
    "df[df[\"Weight\"]>UL]"
   ]
  },
  {
   "cell_type": "code",
   "execution_count": 101,
   "id": "e6df284f-d44d-474d-b9c2-5ebf282ce57e",
   "metadata": {},
   "outputs": [],
   "source": [
    "# df['Weight'] = np.where(df['Weight']>UL,UL,df['Weight'])"
   ]
  },
  {
   "cell_type": "code",
   "execution_count": 102,
   "id": "69b6afad-2701-472b-9af1-30246aadb3c8",
   "metadata": {},
   "outputs": [],
   "source": [
    "df = df[~(df[\"Weight\"]>UL)]"
   ]
  },
  {
   "cell_type": "code",
   "execution_count": 103,
   "id": "61d097e1-6d53-490f-a375-6d76d485d8ed",
   "metadata": {},
   "outputs": [
    {
     "data": {
      "text/plain": [
       "<Axes: xlabel='Weight'>"
      ]
     },
     "execution_count": 103,
     "metadata": {},
     "output_type": "execute_result"
    },
    {
     "data": {
      "image/png": "[encoded data removed]",
      "text/plain": [
       "<Figure size 640x480 with 1 Axes>"
      ]
     },
     "metadata": {},
     "output_type": "display_data"
    }
   ],
   "source": [
    "sns.boxplot(x='Weight',data=df)"
   ]
  },
  {
   "cell_type": "code",
   "execution_count": 104,
   "id": "36857f0e-3060-48c6-a690-2d95860fd1bd",
   "metadata": {},
   "outputs": [
    {
     "data": {
      "text/plain": [
       "(9999, 3)"
      ]
     },
     "execution_count": 104,
     "metadata": {},
     "output_type": "execute_result"
    }
   ],
   "source": [
    "df.shape"
   ]
  },
  {
   "cell_type": "code",
   "execution_count": null,
   "id": "540200cf-6423-42c1-b45a-5a624d219fc3",
   "metadata": {},
   "outputs": [],
   "source": []
  }
 ],
 "metadata": {
  "kernelspec": {
   "display_name": "Python 3 (ipykernel)",
   "language": "python",
   "name": "python3"
  },
  "language_info": {
   "codemirror_mode": {
    "name": "ipython",
    "version": 3
   },
   "file_extension": ".py",
   "mimetype": "text/x-python",
   "name": "python",
   "nbconvert_exporter": "python",
   "pygments_lexer": "ipython3",
   "version": "3.12.7"
  }
 },
 "nbformat": 4,
 "nbformat_minor": 5
}
